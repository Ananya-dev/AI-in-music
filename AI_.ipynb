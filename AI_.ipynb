{
  "nbformat": 4,
  "nbformat_minor": 0,
  "metadata": {
    "colab": {
      "name": "AI .ipynb",
      "provenance": [],
      "collapsed_sections": [],
      "authorship_tag": "ABX9TyOnMqbGfKRszI4Yd52b23EH",
      "include_colab_link": true
    },
    "kernelspec": {
      "name": "python3",
      "display_name": "Python 3"
    }
  },
  "cells": [
    {
      "cell_type": "markdown",
      "metadata": {
        "id": "view-in-github",
        "colab_type": "text"
      },
      "source": [
        "<a href=\"https://colab.research.google.com/github/ananyaroy1011/AI-in-music/blob/master/AI_.ipynb\" target=\"_parent\"><img src=\"https://colab.research.google.com/assets/colab-badge.svg\" alt=\"Open In Colab\"/></a>"
      ]
    },
    {
      "cell_type": "code",
      "metadata": {
        "colab": {
          "base_uri": "https://localhost:8080/"
        },
        "id": "-vp4kMFIkMDw",
        "outputId": "1bcca8a5-cdfd-4066-bbcb-6b5d1a221a92"
      },
      "source": [
        "!pip install ecapture\r\n",
        "\r\n"
      ],
      "execution_count": 1,
      "outputs": [
        {
          "output_type": "stream",
          "text": [
            "Requirement already satisfied: ecapture in /usr/local/lib/python3.6/dist-packages (0.1.8)\n",
            "Requirement already satisfied: opencv-python in /usr/local/lib/python3.6/dist-packages (from ecapture) (4.1.2.30)\n",
            "Requirement already satisfied: scikit-image==0.14.2 in /usr/local/lib/python3.6/dist-packages (from ecapture) (0.14.2)\n",
            "Requirement already satisfied: numpy>=1.11.3 in /usr/local/lib/python3.6/dist-packages (from opencv-python->ecapture) (1.19.4)\n",
            "Requirement already satisfied: pillow>=4.3.0 in /usr/local/lib/python3.6/dist-packages (from scikit-image==0.14.2->ecapture) (7.0.0)\n",
            "Requirement already satisfied: matplotlib>=2.0.0 in /usr/local/lib/python3.6/dist-packages (from scikit-image==0.14.2->ecapture) (3.2.2)\n",
            "Requirement already satisfied: six>=1.10.0 in /usr/local/lib/python3.6/dist-packages (from scikit-image==0.14.2->ecapture) (1.15.0)\n",
            "Requirement already satisfied: PyWavelets>=0.4.0 in /usr/local/lib/python3.6/dist-packages (from scikit-image==0.14.2->ecapture) (1.1.1)\n",
            "Requirement already satisfied: cloudpickle>=0.2.1 in /usr/local/lib/python3.6/dist-packages (from scikit-image==0.14.2->ecapture) (1.3.0)\n",
            "Requirement already satisfied: dask[array]>=1.0.0 in /usr/local/lib/python3.6/dist-packages (from scikit-image==0.14.2->ecapture) (2.12.0)\n",
            "Requirement already satisfied: networkx>=1.8 in /usr/local/lib/python3.6/dist-packages (from scikit-image==0.14.2->ecapture) (2.5)\n",
            "Requirement already satisfied: scipy>=0.17.0 in /usr/local/lib/python3.6/dist-packages (from scikit-image==0.14.2->ecapture) (1.4.1)\n",
            "Requirement already satisfied: pyparsing!=2.0.4,!=2.1.2,!=2.1.6,>=2.0.1 in /usr/local/lib/python3.6/dist-packages (from matplotlib>=2.0.0->scikit-image==0.14.2->ecapture) (2.4.7)\n",
            "Requirement already satisfied: python-dateutil>=2.1 in /usr/local/lib/python3.6/dist-packages (from matplotlib>=2.0.0->scikit-image==0.14.2->ecapture) (2.8.1)\n",
            "Requirement already satisfied: kiwisolver>=1.0.1 in /usr/local/lib/python3.6/dist-packages (from matplotlib>=2.0.0->scikit-image==0.14.2->ecapture) (1.3.1)\n",
            "Requirement already satisfied: cycler>=0.10 in /usr/local/lib/python3.6/dist-packages (from matplotlib>=2.0.0->scikit-image==0.14.2->ecapture) (0.10.0)\n",
            "Requirement already satisfied: toolz>=0.7.3; extra == \"array\" in /usr/local/lib/python3.6/dist-packages (from dask[array]>=1.0.0->scikit-image==0.14.2->ecapture) (0.11.1)\n",
            "Requirement already satisfied: decorator>=4.3.0 in /usr/local/lib/python3.6/dist-packages (from networkx>=1.8->scikit-image==0.14.2->ecapture) (4.4.2)\n"
          ],
          "name": "stdout"
        }
      ]
    },
    {
      "cell_type": "code",
      "metadata": {
        "colab": {
          "base_uri": "https://localhost:8080/"
        },
        "id": "AtTNXbjMkwgV",
        "outputId": "5a419c33-9723-4e87-e613-ebb01ed186d9"
      },
      "source": [
        "pip install SpeechRecognition"
      ],
      "execution_count": 2,
      "outputs": [
        {
          "output_type": "stream",
          "text": [
            "Requirement already satisfied: SpeechRecognition in /usr/local/lib/python3.6/dist-packages (3.8.1)\n"
          ],
          "name": "stdout"
        }
      ]
    },
    {
      "cell_type": "code",
      "metadata": {
        "colab": {
          "base_uri": "https://localhost:8080/"
        },
        "id": "7hSytKjlk3mj",
        "outputId": "f8c73855-0ee3-47c0-9f08-a879e2c4852e"
      },
      "source": [
        "pip install pyttsx3"
      ],
      "execution_count": 3,
      "outputs": [
        {
          "output_type": "stream",
          "text": [
            "Requirement already satisfied: pyttsx3 in /usr/local/lib/python3.6/dist-packages (2.90)\n"
          ],
          "name": "stdout"
        }
      ]
    },
    {
      "cell_type": "code",
      "metadata": {
        "colab": {
          "base_uri": "https://localhost:8080/"
        },
        "id": "VaWOBhKolB9O",
        "outputId": "36e074b9-120a-423c-f914-20b147a71807"
      },
      "source": [
        "pip install wikipedia"
      ],
      "execution_count": 4,
      "outputs": [
        {
          "output_type": "stream",
          "text": [
            "Requirement already satisfied: wikipedia in /usr/local/lib/python3.6/dist-packages (1.4.0)\n",
            "Requirement already satisfied: requests<3.0.0,>=2.0.0 in /usr/local/lib/python3.6/dist-packages (from wikipedia) (2.23.0)\n",
            "Requirement already satisfied: beautifulsoup4 in /usr/local/lib/python3.6/dist-packages (from wikipedia) (4.6.3)\n",
            "Requirement already satisfied: urllib3!=1.25.0,!=1.25.1,<1.26,>=1.21.1 in /usr/local/lib/python3.6/dist-packages (from requests<3.0.0,>=2.0.0->wikipedia) (1.24.3)\n",
            "Requirement already satisfied: certifi>=2017.4.17 in /usr/local/lib/python3.6/dist-packages (from requests<3.0.0,>=2.0.0->wikipedia) (2020.12.5)\n",
            "Requirement already satisfied: idna<3,>=2.5 in /usr/local/lib/python3.6/dist-packages (from requests<3.0.0,>=2.0.0->wikipedia) (2.10)\n",
            "Requirement already satisfied: chardet<4,>=3.0.2 in /usr/local/lib/python3.6/dist-packages (from requests<3.0.0,>=2.0.0->wikipedia) (3.0.4)\n"
          ],
          "name": "stdout"
        }
      ]
    },
    {
      "cell_type": "code",
      "metadata": {
        "colab": {
          "base_uri": "https://localhost:8080/"
        },
        "id": "lJ8YzrRdlJan",
        "outputId": "40fd699e-81dc-492f-c58b-3bae1b25f7fc"
      },
      "source": [
        "pip install wolframalpha"
      ],
      "execution_count": 5,
      "outputs": [
        {
          "output_type": "stream",
          "text": [
            "Requirement already satisfied: wolframalpha in /usr/local/lib/python3.6/dist-packages (4.1.1)\n",
            "Requirement already satisfied: more-itertools in /usr/local/lib/python3.6/dist-packages (from wolframalpha) (8.6.0)\n",
            "Requirement already satisfied: xmltodict in /usr/local/lib/python3.6/dist-packages (from wolframalpha) (0.12.0)\n"
          ],
          "name": "stdout"
        }
      ]
    },
    {
      "cell_type": "code",
      "metadata": {
        "id": "5UQL8VLcksRC"
      },
      "source": [
        "import speech_recognition as sr\r\n",
        "import pyttsx3\r\n",
        "import datetime\r\n",
        "import wikipedia\r\n",
        "import webbrowser\r\n",
        "import os\r\n",
        "import time\r\n",
        "import subprocess\r\n",
        "from ecapture import ecapture as ec\r\n",
        "import wolframalpha\r\n",
        "import json\r\n",
        "import requests"
      ],
      "execution_count": 6,
      "outputs": []
    },
    {
      "cell_type": "code",
      "metadata": {
        "colab": {
          "base_uri": "https://localhost:8080/"
        },
        "id": "S1UiNzrdlZL4",
        "outputId": "7cbcc7ed-a848-446d-978d-988522a78bba"
      },
      "source": [
        "pip install comtypes"
      ],
      "execution_count": 7,
      "outputs": [
        {
          "output_type": "stream",
          "text": [
            "Requirement already satisfied: comtypes in /usr/local/lib/python3.6/dist-packages (1.1.8)\n"
          ],
          "name": "stdout"
        }
      ]
    },
    {
      "cell_type": "code",
      "metadata": {
        "colab": {
          "base_uri": "https://localhost:8080/",
          "height": 835
        },
        "id": "QVFAhyNTm-R5",
        "outputId": "2556e596-94fb-4ae1-ccef-5709222d6dcc"
      },
      "source": [
        "pip install -Iv pyttsx3==2.6 -U"
      ],
      "execution_count": 8,
      "outputs": [
        {
          "output_type": "stream",
          "text": [
            "Created temporary directory: /tmp/pip-ephem-wheel-cache-ojxihzjc\n",
            "Created temporary directory: /tmp/pip-req-tracker-dt8fgpe1\n",
            "Created requirements tracker '/tmp/pip-req-tracker-dt8fgpe1'\n",
            "Created temporary directory: /tmp/pip-install-113_rnbr\n",
            "1 location(s) to search for versions of pyttsx3:\n",
            "* https://pypi.org/simple/pyttsx3/\n",
            "Getting page https://pypi.org/simple/pyttsx3/\n",
            "Found index url https://pypi.org/simple\n",
            "Looking up \"https://pypi.org/simple/pyttsx3/\" in the cache\n",
            "Request header has \"max_age\" as 0, cache bypassed\n",
            "Starting new HTTPS connection (1): pypi.org:443\n",
            "https://pypi.org:443 \"GET /simple/pyttsx3/ HTTP/1.1\" 304 0\n",
            "Analyzing links from page https://pypi.org/simple/pyttsx3/\n",
            "  Found link https://files.pythonhosted.org/packages/5b/4c/7a6cb1f3b34670215fc2a8e647056d33464ea8e481b433e8596d8eef5120/pyttsx3-1.14.zip#sha256=28ff8d0a4b5a7f00d5091fa83e0cba8b78931f1c80c2c60b5f6c8b88e72c131e (from https://pypi.org/simple/pyttsx3/), version: 1.14\n",
            "  Found link https://files.pythonhosted.org/packages/0a/fc/aeb65c7b6fdca7c16289ca094fa754a8870b56cccc27ad01bcabf7911625/pyttsx3-1.15.zip#sha256=c3b53417b625eabf45a923a1cd2f4467478acceba3a27398755c94b040cdba4a (from https://pypi.org/simple/pyttsx3/), version: 1.15\n",
            "  Found link https://files.pythonhosted.org/packages/30/0d/f38ea058f66a7f1ee0cb2488dc72b1ea5524c60afbd2db0a57c64c648a62/pyttsx3-2.5.zip#sha256=86f29c08a3e9871925f39d3ce46aaf3359abaadd3d87a2690d87936f1b93d4db (from https://pypi.org/simple/pyttsx3/), version: 2.5\n",
            "  Found link https://files.pythonhosted.org/packages/6a/d8/9277091f4bb6b0fce243266fb544913b1d498b0acca38c823e2984e0fee1/pyttsx3-2.6.zip#sha256=c532e5e2c2d14165c3f3bf117f3dbd1ca4c617e05d5392caf4edf5097d3ce0f8 (from https://pypi.org/simple/pyttsx3/), version: 2.6\n",
            "  Found link https://files.pythonhosted.org/packages/12/b4/75d792acf44c01200690030f185e246244ebdfc12db84690e5c1c4df2864/pyttsx3-2.7-py3-none-any.whl#sha256=03fd07429b21e99ba2d738d25d12328483fae9cb86de7ea9ac5a2617031d7261 (from https://pypi.org/simple/pyttsx3/), version: 2.7\n",
            "  Found link https://files.pythonhosted.org/packages/24/4e/580726c73272344d3e74b7aaffae55ff6b6450061fbecb8cc6e112531c02/pyttsx3-2.7.tar.gz#sha256=c3d67b54f10252b4254869c85280f48d7b914304fb726d0b41b170f2da3bf0f6 (from https://pypi.org/simple/pyttsx3/), version: 2.7\n",
            "  Found link https://files.pythonhosted.org/packages/7c/6e/691088c03db2f9e062994fce9f310f85bf1932d2a0296b11676b927783eb/pyttsx3-2.8-py3-none-any.whl#sha256=a35e0d0ebbb02e366fa3a2f461ff6bf52e0c8a4531389be4fe9434cdbdf3727e (from https://pypi.org/simple/pyttsx3/), version: 2.8\n",
            "  Found link https://files.pythonhosted.org/packages/35/13/11ca6cc12a957f75555e9681d3a25978714d2e6a576367c2d00cf243e192/pyttsx3-2.9-py3-none-any.whl#sha256=2e8f824060c05e890c093d8022e426e424c95f002e94a3bcab45027456259649 (from https://pypi.org/simple/pyttsx3/), version: 2.9\n",
            "  Found link https://files.pythonhosted.org/packages/2f/ca/019a5d782f355bc2040ac45bd9612995652934dc16e48873d3fb2e367547/pyttsx3-2.71-py3-none-any.whl#sha256=e630a37fd7d117ddfd67d2038c8dc8553904832cf2e54b0b7e39dbe571ad0941 (from https://pypi.org/simple/pyttsx3/), version: 2.71\n",
            "  Found link https://files.pythonhosted.org/packages/00/c2/a83636e6ab1db54918cc650b30a409c44d66ebdd6440054674fb948a5b06/pyttsx3-2.80-py3-none-any.whl#sha256=1743655a875926f8361298a400aeaa6aac9bdf4399d0a0711837f99fec8822b8 (from https://pypi.org/simple/pyttsx3/), version: 2.80\n",
            "  Found link https://files.pythonhosted.org/packages/b7/c3/7317dafc544a4de539f729dd494410f7e095fb72db85ef16269f5e7403f7/pyttsx3-2.81-py3-none-any.whl#sha256=f127e5f284dee53b0af1e8333fa0b874635ceff145db2dbf6ddd4d8ebbc73a3f (from https://pypi.org/simple/pyttsx3/), version: 2.81\n",
            "  Found link https://files.pythonhosted.org/packages/38/2a/98347a2906952245fbcf825d89cd22bd0b3604a8e8e99a9f0107e4e9cb62/pyttsx3-2.83-py3-none-any.whl#sha256=3d43d7cc8ca8e558ae0da91e96684866c64dc83365b62e4f515ff5492dc74eb1 (from https://pypi.org/simple/pyttsx3/), version: 2.83\n",
            "  Found link https://files.pythonhosted.org/packages/f4/20/f6c582c5f2735ca5c55ae52f1ddbc7447fb3565b5ac2fdc24a8d534f4aa1/pyttsx3-2.84-py3-none-any.whl#sha256=783959368938fc6ad5f9c3f5663a8f1f3249f945251035fcf4ea0c61e75c8217 (from https://pypi.org/simple/pyttsx3/), version: 2.84\n",
            "  Found link https://files.pythonhosted.org/packages/e4/53/f2f33e68c25b5944db5c4390d03ac8b12747b9b9bf7ba154bdcc7745e57d/pyttsx3-2.86-py3-none-any.whl#sha256=da0138278437d8cc1521e17d75e2b6e339f2c6b55507355056e118462e0cc152 (from https://pypi.org/simple/pyttsx3/), version: 2.86\n",
            "  Found link https://files.pythonhosted.org/packages/fd/4b/4981cc11f1a288fa44fb906e07786eaa081b1b42da3f6dce38fe16af0d99/pyttsx3-2.87-py3-none-any.whl#sha256=57d0afb468e4da590d8d1b41fbf9985c84b85aa8a083c7e569ebe24513fd0024 (from https://pypi.org/simple/pyttsx3/), version: 2.87\n",
            "  Found link https://files.pythonhosted.org/packages/bb/1d/cd20dac738d0b0e94d758ee8075e724eae871eca466642c87b4109eef490/pyttsx3-2.88-py3-none-any.whl#sha256=3b133c0c723affb8dbe2b40ee914481a9a547aac1b50ccb9122366ab3467e606 (from https://pypi.org/simple/pyttsx3/), version: 2.88\n",
            "  Found link https://files.pythonhosted.org/packages/33/9a/de4781245f5ad966646fd276259ef7cfd400ba3cf7d5db7c0d5aab310c20/pyttsx3-2.90-py3-none-any.whl#sha256=a585b6d8cffc19bd92db1e0ccbd8aa9c6528dd2baa5a47045d6fed542a44aa19 (from https://pypi.org/simple/pyttsx3/), version: 2.90\n",
            "Given no hashes to check 1 links for project 'pyttsx3': discarding no candidates\n",
            "Using version 2.6 (newest of versions: 2.6)\n",
            "Using cached wheel link: file:///root/.cache/pip/wheels/b2/cd/44/eaf3acfbdce8bd1f223b8a7c9ca168fc048ba08b648fe353f1/pyttsx3-2.6-cp36-none-any.whl\n",
            "Processing /root/.cache/pip/wheels/b2/cd/44/eaf3acfbdce8bd1f223b8a7c9ca168fc048ba08b648fe353f1/pyttsx3-2.6-cp36-none-any.whl\n",
            "  Added pyttsx3==2.6 from file:///root/.cache/pip/wheels/b2/cd/44/eaf3acfbdce8bd1f223b8a7c9ca168fc048ba08b648fe353f1/pyttsx3-2.6-cp36-none-any.whl to build tracker '/tmp/pip-req-tracker-dt8fgpe1'\n",
            "  Removed pyttsx3==2.6 from file:///root/.cache/pip/wheels/b2/cd/44/eaf3acfbdce8bd1f223b8a7c9ca168fc048ba08b648fe353f1/pyttsx3-2.6-cp36-none-any.whl from build tracker '/tmp/pip-req-tracker-dt8fgpe1'\n",
            "Installing collected packages: pyttsx3\n",
            "\n",
            "Successfully installed pyttsx3-2.90\n",
            "Cleaning up...\n",
            "Removed build tracker '/tmp/pip-req-tracker-dt8fgpe1'\n"
          ],
          "name": "stdout"
        },
        {
          "output_type": "display_data",
          "data": {
            "application/vnd.colab-display-data+json": {
              "pip_warning": {
                "packages": [
                  "pyttsx3"
                ]
              }
            }
          },
          "metadata": {
            "tags": []
          }
        }
      ]
    },
    {
      "cell_type": "code",
      "metadata": {
        "colab": {
          "base_uri": "https://localhost:8080/"
        },
        "id": "suznW3KonkVE",
        "outputId": "7733507f-ce83-4c72-b223-62615d16ab52"
      },
      "source": [
        "pip install --upgrade pip"
      ],
      "execution_count": 13,
      "outputs": [
        {
          "output_type": "stream",
          "text": [
            "Collecting pip\n",
            "\u001b[?25l  Downloading https://files.pythonhosted.org/packages/54/eb/4a3642e971f404d69d4f6fa3885559d67562801b99d7592487f1ecc4e017/pip-20.3.3-py2.py3-none-any.whl (1.5MB)\n",
            "\u001b[K     |████████████████████████████████| 1.5MB 5.8MB/s \n",
            "\u001b[?25hInstalling collected packages: pip\n",
            "  Found existing installation: pip 19.3.1\n",
            "    Uninstalling pip-19.3.1:\n",
            "      Successfully uninstalled pip-19.3.1\n",
            "Successfully installed pip-20.3.3\n"
          ],
          "name": "stdout"
        }
      ]
    },
    {
      "cell_type": "code",
      "metadata": {
        "colab": {
          "base_uri": "https://localhost:8080/"
        },
        "id": "yhRFla8tuYTd",
        "outputId": "f0459a8c-2745-4a6c-baf5-1c55ba25e8f4"
      },
      "source": [
        "pip install pipenv"
      ],
      "execution_count": 39,
      "outputs": [
        {
          "output_type": "stream",
          "text": [
            "Collecting pipenv\n",
            "  Downloading pipenv-2020.11.15-py2.py3-none-any.whl (3.9 MB)\n",
            "\u001b[K     |████████████████████████████████| 3.9 MB 4.3 MB/s \n",
            "\u001b[?25hRequirement already satisfied: certifi in /usr/local/lib/python3.6/dist-packages (from pipenv) (2020.12.5)\n",
            "Requirement already satisfied: pip>=18.0 in /usr/local/lib/python3.6/dist-packages (from pipenv) (20.3.3)\n",
            "Requirement already satisfied: setuptools>=36.2.1 in /usr/local/lib/python3.6/dist-packages (from pipenv) (51.1.1)\n",
            "Collecting virtualenv-clone>=0.2.5\n",
            "  Downloading virtualenv_clone-0.5.4-py2.py3-none-any.whl (6.6 kB)\n",
            "Collecting virtualenv\n",
            "  Downloading virtualenv-20.2.2-py2.py3-none-any.whl (5.7 MB)\n",
            "\u001b[K     |████████████████████████████████| 5.7 MB 46.1 MB/s \n",
            "\u001b[?25hRequirement already satisfied: importlib-resources>=1.0 in /usr/local/lib/python3.6/dist-packages (from virtualenv->pipenv) (3.3.0)\n",
            "Requirement already satisfied: filelock<4,>=3.0.0 in /usr/local/lib/python3.6/dist-packages (from virtualenv->pipenv) (3.0.12)\n",
            "Requirement already satisfied: importlib-metadata>=0.12 in /usr/local/lib/python3.6/dist-packages (from virtualenv->pipenv) (3.3.0)\n",
            "Requirement already satisfied: six<2,>=1.9.0 in /usr/local/lib/python3.6/dist-packages (from virtualenv->pipenv) (1.15.0)\n",
            "Collecting appdirs<2,>=1.4.3\n",
            "  Downloading appdirs-1.4.4-py2.py3-none-any.whl (9.6 kB)\n",
            "Collecting distlib<1,>=0.3.1\n",
            "  Downloading distlib-0.3.1-py2.py3-none-any.whl (335 kB)\n",
            "\u001b[K     |████████████████████████████████| 335 kB 52.4 MB/s \n",
            "\u001b[?25hRequirement already satisfied: typing-extensions>=3.6.4 in /usr/local/lib/python3.6/dist-packages (from importlib-metadata>=0.12->virtualenv->pipenv) (3.7.4.3)\n",
            "Requirement already satisfied: zipp>=0.5 in /usr/local/lib/python3.6/dist-packages (from importlib-metadata>=0.12->virtualenv->pipenv) (3.4.0)\n",
            "Installing collected packages: distlib, appdirs, virtualenv-clone, virtualenv, pipenv\n",
            "Successfully installed appdirs-1.4.4 distlib-0.3.1 pipenv-2020.11.15 virtualenv-20.2.2 virtualenv-clone-0.5.4\n"
          ],
          "name": "stdout"
        }
      ]
    },
    {
      "cell_type": "code",
      "metadata": {
        "colab": {
          "base_uri": "https://localhost:8080/"
        },
        "id": "ymbgYNF6ubjc",
        "outputId": "8b465dab-105a-41e8-e9da-2eba34f930a9"
      },
      "source": [
        "pip install -U pypiwin32"
      ],
      "execution_count": 60,
      "outputs": [
        {
          "output_type": "stream",
          "text": [
            "Collecting pypiwin32\n",
            "  Using cached pypiwin32-223-py3-none-any.whl (1.7 kB)\n",
            "  Using cached pypiwin32-219.zip (4.8 MB)\n",
            "\u001b[31mERROR: Command errored out with exit status 1: python setup.py egg_info Check the logs for full command output.\u001b[0m\n"
          ],
          "name": "stdout"
        }
      ]
    },
    {
      "cell_type": "code",
      "metadata": {
        "colab": {
          "base_uri": "https://localhost:8080/",
          "height": 1000
        },
        "id": "48ou5qU0lOyL",
        "outputId": "1f1134df-0f00-4aa0-c833-d15aeaaf5b74"
      },
      "source": [
        "engine=pyttsx3.init('sapi5')\r\n",
        "voices=engine.getProperty('voices')\r\n",
        "engine.setProperty('voice','voices[0].id')"
      ],
      "execution_count": 38,
      "outputs": [
        {
          "output_type": "error",
          "ename": "ModuleNotFoundError",
          "evalue": "ignored",
          "traceback": [
            "\u001b[0;31m---------------------------------------------------------------------------\u001b[0m",
            "\u001b[0;31mKeyError\u001b[0m                                  Traceback (most recent call last)",
            "\u001b[0;32m/usr/local/lib/python3.6/dist-packages/pyttsx3/__init__.py\u001b[0m in \u001b[0;36minit\u001b[0;34m(driverName, debug)\u001b[0m\n\u001b[1;32m     43\u001b[0m     \u001b[0;32mtry\u001b[0m\u001b[0;34m:\u001b[0m\u001b[0;34m\u001b[0m\u001b[0;34m\u001b[0m\u001b[0m\n\u001b[0;32m---> 44\u001b[0;31m         \u001b[0meng\u001b[0m \u001b[0;34m=\u001b[0m \u001b[0m_activeEngines\u001b[0m\u001b[0;34m[\u001b[0m\u001b[0mdriverName\u001b[0m\u001b[0;34m]\u001b[0m\u001b[0;34m\u001b[0m\u001b[0;34m\u001b[0m\u001b[0m\n\u001b[0m\u001b[1;32m     45\u001b[0m     \u001b[0;32mexcept\u001b[0m \u001b[0mKeyError\u001b[0m\u001b[0;34m:\u001b[0m\u001b[0;34m\u001b[0m\u001b[0;34m\u001b[0m\u001b[0m\n",
            "\u001b[0;32m/usr/lib/python3.6/weakref.py\u001b[0m in \u001b[0;36m__getitem__\u001b[0;34m(self, key)\u001b[0m\n\u001b[1;32m    136\u001b[0m             \u001b[0mself\u001b[0m\u001b[0;34m.\u001b[0m\u001b[0m_commit_removals\u001b[0m\u001b[0;34m(\u001b[0m\u001b[0;34m)\u001b[0m\u001b[0;34m\u001b[0m\u001b[0;34m\u001b[0m\u001b[0m\n\u001b[0;32m--> 137\u001b[0;31m         \u001b[0mo\u001b[0m \u001b[0;34m=\u001b[0m \u001b[0mself\u001b[0m\u001b[0;34m.\u001b[0m\u001b[0mdata\u001b[0m\u001b[0;34m[\u001b[0m\u001b[0mkey\u001b[0m\u001b[0;34m]\u001b[0m\u001b[0;34m(\u001b[0m\u001b[0;34m)\u001b[0m\u001b[0;34m\u001b[0m\u001b[0;34m\u001b[0m\u001b[0m\n\u001b[0m\u001b[1;32m    138\u001b[0m         \u001b[0;32mif\u001b[0m \u001b[0mo\u001b[0m \u001b[0;32mis\u001b[0m \u001b[0;32mNone\u001b[0m\u001b[0;34m:\u001b[0m\u001b[0;34m\u001b[0m\u001b[0;34m\u001b[0m\u001b[0m\n",
            "\u001b[0;31mKeyError\u001b[0m: 'sapi5'",
            "\nDuring handling of the above exception, another exception occurred:\n",
            "\u001b[0;31mModuleNotFoundError\u001b[0m                       Traceback (most recent call last)",
            "\u001b[0;32m<ipython-input-38-db1ad0c60c5a>\u001b[0m in \u001b[0;36m<module>\u001b[0;34m()\u001b[0m\n\u001b[0;32m----> 1\u001b[0;31m \u001b[0mengine\u001b[0m\u001b[0;34m=\u001b[0m\u001b[0mpyttsx3\u001b[0m\u001b[0;34m.\u001b[0m\u001b[0minit\u001b[0m\u001b[0;34m(\u001b[0m\u001b[0;34m'sapi5'\u001b[0m\u001b[0;34m)\u001b[0m\u001b[0;34m\u001b[0m\u001b[0;34m\u001b[0m\u001b[0m\n\u001b[0m\u001b[1;32m      2\u001b[0m \u001b[0mvoices\u001b[0m\u001b[0;34m=\u001b[0m\u001b[0mengine\u001b[0m\u001b[0;34m.\u001b[0m\u001b[0mgetProperty\u001b[0m\u001b[0;34m(\u001b[0m\u001b[0;34m'voices'\u001b[0m\u001b[0;34m)\u001b[0m\u001b[0;34m\u001b[0m\u001b[0;34m\u001b[0m\u001b[0m\n\u001b[1;32m      3\u001b[0m \u001b[0mengine\u001b[0m\u001b[0;34m.\u001b[0m\u001b[0msetProperty\u001b[0m\u001b[0;34m(\u001b[0m\u001b[0;34m'voice'\u001b[0m\u001b[0;34m,\u001b[0m\u001b[0;34m'voices[0].id'\u001b[0m\u001b[0;34m)\u001b[0m\u001b[0;34m\u001b[0m\u001b[0;34m\u001b[0m\u001b[0m\n",
            "\u001b[0;32m/usr/local/lib/python3.6/dist-packages/pyttsx3/__init__.py\u001b[0m in \u001b[0;36minit\u001b[0;34m(driverName, debug)\u001b[0m\n\u001b[1;32m     44\u001b[0m         \u001b[0meng\u001b[0m \u001b[0;34m=\u001b[0m \u001b[0m_activeEngines\u001b[0m\u001b[0;34m[\u001b[0m\u001b[0mdriverName\u001b[0m\u001b[0;34m]\u001b[0m\u001b[0;34m\u001b[0m\u001b[0;34m\u001b[0m\u001b[0m\n\u001b[1;32m     45\u001b[0m     \u001b[0;32mexcept\u001b[0m \u001b[0mKeyError\u001b[0m\u001b[0;34m:\u001b[0m\u001b[0;34m\u001b[0m\u001b[0;34m\u001b[0m\u001b[0m\n\u001b[0;32m---> 46\u001b[0;31m         \u001b[0meng\u001b[0m \u001b[0;34m=\u001b[0m \u001b[0mEngine\u001b[0m\u001b[0;34m(\u001b[0m\u001b[0mdriverName\u001b[0m\u001b[0;34m,\u001b[0m \u001b[0mdebug\u001b[0m\u001b[0;34m)\u001b[0m\u001b[0;34m\u001b[0m\u001b[0;34m\u001b[0m\u001b[0m\n\u001b[0m\u001b[1;32m     47\u001b[0m         \u001b[0m_activeEngines\u001b[0m\u001b[0;34m[\u001b[0m\u001b[0mdriverName\u001b[0m\u001b[0;34m]\u001b[0m \u001b[0;34m=\u001b[0m \u001b[0meng\u001b[0m\u001b[0;34m\u001b[0m\u001b[0;34m\u001b[0m\u001b[0m\n\u001b[1;32m     48\u001b[0m     \u001b[0;32mreturn\u001b[0m \u001b[0meng\u001b[0m\u001b[0;34m\u001b[0m\u001b[0;34m\u001b[0m\u001b[0m\n",
            "\u001b[0;32m/usr/local/lib/python3.6/dist-packages/pyttsx3/engine.py\u001b[0m in \u001b[0;36m__init__\u001b[0;34m(self, driverName, debug)\u001b[0m\n\u001b[1;32m     50\u001b[0m         \u001b[0;34m@\u001b[0m\u001b[0mtype\u001b[0m \u001b[0mdebug\u001b[0m\u001b[0;34m:\u001b[0m \u001b[0mbool\u001b[0m\u001b[0;34m\u001b[0m\u001b[0;34m\u001b[0m\u001b[0m\n\u001b[1;32m     51\u001b[0m         '''\n\u001b[0;32m---> 52\u001b[0;31m         \u001b[0mself\u001b[0m\u001b[0;34m.\u001b[0m\u001b[0mproxy\u001b[0m \u001b[0;34m=\u001b[0m \u001b[0mdriver\u001b[0m\u001b[0;34m.\u001b[0m\u001b[0mDriverProxy\u001b[0m\u001b[0;34m(\u001b[0m\u001b[0mweakref\u001b[0m\u001b[0;34m.\u001b[0m\u001b[0mproxy\u001b[0m\u001b[0;34m(\u001b[0m\u001b[0mself\u001b[0m\u001b[0;34m)\u001b[0m\u001b[0;34m,\u001b[0m \u001b[0mdriverName\u001b[0m\u001b[0;34m,\u001b[0m \u001b[0mdebug\u001b[0m\u001b[0;34m)\u001b[0m\u001b[0;34m\u001b[0m\u001b[0;34m\u001b[0m\u001b[0m\n\u001b[0m\u001b[1;32m     53\u001b[0m         \u001b[0;31m# initialize other vars\u001b[0m\u001b[0;34m\u001b[0m\u001b[0;34m\u001b[0m\u001b[0;34m\u001b[0m\u001b[0m\n\u001b[1;32m     54\u001b[0m         \u001b[0mself\u001b[0m\u001b[0;34m.\u001b[0m\u001b[0m_connects\u001b[0m \u001b[0;34m=\u001b[0m \u001b[0;34m{\u001b[0m\u001b[0;34m}\u001b[0m\u001b[0;34m\u001b[0m\u001b[0;34m\u001b[0m\u001b[0m\n",
            "\u001b[0;32m/usr/local/lib/python3.6/dist-packages/pyttsx3/driver.py\u001b[0m in \u001b[0;36m__init__\u001b[0;34m(self, engine, driverName, debug)\u001b[0m\n\u001b[1;32m     73\u001b[0m         \u001b[0;31m# import driver module\u001b[0m\u001b[0;34m\u001b[0m\u001b[0;34m\u001b[0m\u001b[0;34m\u001b[0m\u001b[0m\n\u001b[1;32m     74\u001b[0m         \u001b[0mname\u001b[0m \u001b[0;34m=\u001b[0m \u001b[0;34m'pyttsx3.drivers.%s'\u001b[0m \u001b[0;34m%\u001b[0m \u001b[0mdriverName\u001b[0m\u001b[0;34m\u001b[0m\u001b[0;34m\u001b[0m\u001b[0m\n\u001b[0;32m---> 75\u001b[0;31m         \u001b[0mself\u001b[0m\u001b[0;34m.\u001b[0m\u001b[0m_module\u001b[0m \u001b[0;34m=\u001b[0m \u001b[0mimportlib\u001b[0m\u001b[0;34m.\u001b[0m\u001b[0mimport_module\u001b[0m\u001b[0;34m(\u001b[0m\u001b[0mname\u001b[0m\u001b[0;34m)\u001b[0m\u001b[0;34m\u001b[0m\u001b[0;34m\u001b[0m\u001b[0m\n\u001b[0m\u001b[1;32m     76\u001b[0m         \u001b[0;31m# build driver instance\u001b[0m\u001b[0;34m\u001b[0m\u001b[0;34m\u001b[0m\u001b[0;34m\u001b[0m\u001b[0m\n\u001b[1;32m     77\u001b[0m         \u001b[0mself\u001b[0m\u001b[0;34m.\u001b[0m\u001b[0m_driver\u001b[0m \u001b[0;34m=\u001b[0m \u001b[0mself\u001b[0m\u001b[0;34m.\u001b[0m\u001b[0m_module\u001b[0m\u001b[0;34m.\u001b[0m\u001b[0mbuildDriver\u001b[0m\u001b[0;34m(\u001b[0m\u001b[0mweakref\u001b[0m\u001b[0;34m.\u001b[0m\u001b[0mproxy\u001b[0m\u001b[0;34m(\u001b[0m\u001b[0mself\u001b[0m\u001b[0;34m)\u001b[0m\u001b[0;34m)\u001b[0m\u001b[0;34m\u001b[0m\u001b[0;34m\u001b[0m\u001b[0m\n",
            "\u001b[0;32m/usr/lib/python3.6/importlib/__init__.py\u001b[0m in \u001b[0;36mimport_module\u001b[0;34m(name, package)\u001b[0m\n\u001b[1;32m    124\u001b[0m                 \u001b[0;32mbreak\u001b[0m\u001b[0;34m\u001b[0m\u001b[0;34m\u001b[0m\u001b[0m\n\u001b[1;32m    125\u001b[0m             \u001b[0mlevel\u001b[0m \u001b[0;34m+=\u001b[0m \u001b[0;36m1\u001b[0m\u001b[0;34m\u001b[0m\u001b[0;34m\u001b[0m\u001b[0m\n\u001b[0;32m--> 126\u001b[0;31m     \u001b[0;32mreturn\u001b[0m \u001b[0m_bootstrap\u001b[0m\u001b[0;34m.\u001b[0m\u001b[0m_gcd_import\u001b[0m\u001b[0;34m(\u001b[0m\u001b[0mname\u001b[0m\u001b[0;34m[\u001b[0m\u001b[0mlevel\u001b[0m\u001b[0;34m:\u001b[0m\u001b[0;34m]\u001b[0m\u001b[0;34m,\u001b[0m \u001b[0mpackage\u001b[0m\u001b[0;34m,\u001b[0m \u001b[0mlevel\u001b[0m\u001b[0;34m)\u001b[0m\u001b[0;34m\u001b[0m\u001b[0;34m\u001b[0m\u001b[0m\n\u001b[0m\u001b[1;32m    127\u001b[0m \u001b[0;34m\u001b[0m\u001b[0m\n\u001b[1;32m    128\u001b[0m \u001b[0;34m\u001b[0m\u001b[0m\n",
            "\u001b[0;32m/usr/lib/python3.6/importlib/_bootstrap.py\u001b[0m in \u001b[0;36m_gcd_import\u001b[0;34m(name, package, level)\u001b[0m\n",
            "\u001b[0;32m/usr/lib/python3.6/importlib/_bootstrap.py\u001b[0m in \u001b[0;36m_find_and_load\u001b[0;34m(name, import_)\u001b[0m\n",
            "\u001b[0;32m/usr/lib/python3.6/importlib/_bootstrap.py\u001b[0m in \u001b[0;36m_find_and_load_unlocked\u001b[0;34m(name, import_)\u001b[0m\n",
            "\u001b[0;32m/usr/lib/python3.6/importlib/_bootstrap.py\u001b[0m in \u001b[0;36m_load_unlocked\u001b[0;34m(spec)\u001b[0m\n",
            "\u001b[0;32m/usr/lib/python3.6/importlib/_bootstrap_external.py\u001b[0m in \u001b[0;36mexec_module\u001b[0;34m(self, module)\u001b[0m\n",
            "\u001b[0;32m/usr/lib/python3.6/importlib/_bootstrap.py\u001b[0m in \u001b[0;36m_call_with_frames_removed\u001b[0;34m(f, *args, **kwds)\u001b[0m\n",
            "\u001b[0;32m/usr/local/lib/python3.6/dist-packages/pyttsx3/drivers/sapi5.py\u001b[0m in \u001b[0;36m<module>\u001b[0;34m()\u001b[0m\n\u001b[1;32m      1\u001b[0m \u001b[0;34m\u001b[0m\u001b[0m\n\u001b[1;32m      2\u001b[0m \u001b[0;31m#import comtypes.client\u001b[0m\u001b[0;34m\u001b[0m\u001b[0;34m\u001b[0m\u001b[0;34m\u001b[0m\u001b[0m\n\u001b[0;32m----> 3\u001b[0;31m \u001b[0;32mimport\u001b[0m \u001b[0mwin32com\u001b[0m\u001b[0;34m.\u001b[0m\u001b[0mclient\u001b[0m\u001b[0;34m\u001b[0m\u001b[0;34m\u001b[0m\u001b[0m\n\u001b[0m\u001b[1;32m      4\u001b[0m \u001b[0;32mimport\u001b[0m \u001b[0mpythoncom\u001b[0m\u001b[0;34m\u001b[0m\u001b[0;34m\u001b[0m\u001b[0m\n\u001b[1;32m      5\u001b[0m \u001b[0;32mimport\u001b[0m \u001b[0mtime\u001b[0m\u001b[0;34m\u001b[0m\u001b[0;34m\u001b[0m\u001b[0m\n",
            "\u001b[0;31mModuleNotFoundError\u001b[0m: No module named 'win32com'",
            "",
            "\u001b[0;31m---------------------------------------------------------------------------\u001b[0;32m\nNOTE: If your import is failing due to a missing package, you can\nmanually install dependencies using either !pip or !apt.\n\nTo view examples of installing some common dependencies, click the\n\"Open Examples\" button below.\n\u001b[0;31m---------------------------------------------------------------------------\u001b[0m\n"
          ]
        }
      ]
    }
  ]
}